{
 "cells": [
  {
   "cell_type": "markdown",
   "metadata": {},
   "source": [
    "# Homework 13: Deep Learning SDK (the unofficial one, by Dustin Franklin)\n",
    "## Tutors, Darragh Hanely and Brad DesAulniers\n",
    "## Student Ciaran O'Connor, id = 303635759\n",
    "## Group Tuesday 2-3:30pm Pacific Time\n",
    "## Submission, answers to homework"
   ]
  },
  {
   "cell_type": "markdown",
   "metadata": {},
   "source": [
    "#### SUBMISSION"
   ]
  },
  {
   "cell_type": "markdown",
   "metadata": {},
   "source": [
    "#### 1.  Please report the time it took you to train the model along with the final accuracy top1/top5 that you were able to achieve."
   ]
  },
  {
   "cell_type": "markdown",
   "metadata": {},
   "source": [
    "ResNet 18, 7 hours (rounded) to compute 100 epochs at a rate of 1 epoch approximately every 250 seconds.    \n",
    "ResNet 50, 10 hours (rounded) to compute 100 epochs at a rate of 1 epoch approximately every 700 seconds.\n",
    "\n",
    "ResNet 18\n",
    "Exemplar accuracy @ 35 epochs, ResNet 18, accuracy = 79.12%.  \n",
    "\n",
    "#### __100 Epochs with Wide ResNet 50__ ####\n",
    "\n",
    "Epoch: [99][1300/1307]  Time  1.029 ( 1.031)  Data  0.000 ( 0.041)  Loss 1.3425e+00 (1.3050e+00)  Acc@1  62.50 ( 58.82)  Acc@5 100.00 ( 88.89)    \n",
    "Test: [140/142]  Time  0.313 ( 0.328)  Loss 2.3759e+00 (1.5421e+00)  Acc@1   0.00 ( 51.95)  Acc@5  75.00 ( 84.13)\n",
    " * Acc@1 51.982 Acc@5 84.229    \n",
    "\n",
    "#### __100 Epochs with ResNet 18__ ####\n",
    "\n",
    "Epoch: [99][1300/1307]  Time  0.186 ( 0.191)  Data  0.000 ( 0.010)  Loss 8.8987e-01 (1.1410e+00)  Acc@1  62.50 ( 63.81)  Acc@5  87.50 ( 91.59)\n",
    "Epoch:\n",
    " \n",
    "Test: [140/142]  Time  0.095 ( 0.100)  Loss 3.3343e+00 (1.4574e+00)  Acc@1   0.00 ( 57.62)  Acc@5 100.00 ( 86.17)\n",
    " * Acc@1 57.709 Acc@5 86.256\n",
    "\n",
    "Exemplar accuracy @ 35 epochs, ResNet 50, accuracy = 76.65%."
   ]
  },
  {
   "cell_type": "markdown",
   "metadata": {},
   "source": [
    "#### 2. Did you get better results with Wide ResNet50 or ResNet18?"
   ]
  },
  {
   "cell_type": "markdown",
   "metadata": {},
   "source": [
    "ResNet 18 reports the better accuracy, with an accuracy of 86.26% after 100 epochs."
   ]
  },
  {
   "cell_type": "markdown",
   "metadata": {},
   "source": [
    " #### 3. What training parameters you adjusted? Why?"
   ]
  },
  {
   "cell_type": "markdown",
   "metadata": {},
   "source": [
    " Epochs to train and retrain the models over the data, to improve accuracy.  All I had time for with the extensive run time and the difficulty of getting the docker build and methods to bed-in on the Xavier architecture in the first place."
   ]
  },
  {
   "cell_type": "markdown",
   "metadata": {},
   "source": [
    "#### FIN"
   ]
  }
 ],
 "metadata": {
  "kernelspec": {
   "display_name": "Python 3",
   "language": "python",
   "name": "python3"
  },
  "language_info": {
   "codemirror_mode": {
    "name": "ipython",
    "version": 3
   },
   "file_extension": ".py",
   "mimetype": "text/x-python",
   "name": "python",
   "nbconvert_exporter": "python",
   "pygments_lexer": "ipython3",
   "version": "3.8.5"
  }
 },
 "nbformat": 4,
 "nbformat_minor": 4
}
