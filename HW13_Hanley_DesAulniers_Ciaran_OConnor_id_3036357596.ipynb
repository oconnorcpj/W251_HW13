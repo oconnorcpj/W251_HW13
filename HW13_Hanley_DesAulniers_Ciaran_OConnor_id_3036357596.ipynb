{
 "cells": [
  {
   "cell_type": "markdown",
   "metadata": {},
   "source": [
    "# Homework 13: Deep Learning SDK (the unofficial one, by Dustin Franklin)\n",
    "## Tutors, Darragh Hanely and Brad DesAulniers\n",
    "## Student Ciaran O'Connor, id = 303635759\n",
    "## Group Tuesday 2-3:30pm Pacific Time\n",
    "## Submission, answers to homework"
   ]
  },
  {
   "cell_type": "markdown",
   "metadata": {},
   "source": [
    "#### SUBMISSION"
   ]
  },
  {
   "cell_type": "markdown",
   "metadata": {},
   "source": [
    "#### 1.  Please report the time it took you to train the model along with the final accuracy top1/top5 that you were able to achieve."
   ]
  },
  {
   "cell_type": "markdown",
   "metadata": {},
   "source": [
    "ResNet 18, 7 hours (rounded) to compute 100 epochs at a rate of 1 epoch approximately every 250 seconds.    \n",
    "ResNet 50, 10 hours (rounded) to compute 100 epochs at a rate of 1 epoch approximately every 700 seconds.\n",
    "\n",
    "Exemplar accuracy @ 35 epochs, ResNet 18, accuracy = 79.12%.    \n",
    "Exemplar accuracy @ 35 epochs, ResNet 50, accuracy = 76.65%.\n",
    "\n",
    "The best models for each are included in the GitHub repository as model_best_pth.tar in the respective ResNet 18 and 50 directories.  The stdout output from the train.py script is also provided for each model in those dire "
   ]
  },
  {
   "cell_type": "markdown",
   "metadata": {},
   "source": [
    "#### 2. Did you get better results with Wide ResNet50 or ResNet18?"
   ]
  },
  {
   "cell_type": "markdown",
   "metadata": {},
   "source": [
    "ResNet 18 reports the better accuracy, with an accuracy of 79.12% after 35 epochs."
   ]
  },
  {
   "cell_type": "markdown",
   "metadata": {},
   "source": [
    " #### 3. What training parameters you adjusted? Why?"
   ]
  },
  {
   "cell_type": "markdown",
   "metadata": {},
   "source": [
    " Epochs to train and retrain the models over the data, to improve accuracy.  All I had time for with the extensive run time and the difficulty of getting the docker build and methods to bed-in on the Xavier architecture in the first place."
   ]
  },
  {
   "cell_type": "markdown",
   "metadata": {},
   "source": [
    "#### FIN"
   ]
  }
 ],
 "metadata": {
  "kernelspec": {
   "display_name": "Python 3",
   "language": "python",
   "name": "python3"
  },
  "language_info": {
   "codemirror_mode": {
    "name": "ipython",
    "version": 3
   },
   "file_extension": ".py",
   "mimetype": "text/x-python",
   "name": "python",
   "nbconvert_exporter": "python",
   "pygments_lexer": "ipython3",
   "version": "3.8.5"
  }
 },
 "nbformat": 4,
 "nbformat_minor": 4
}
